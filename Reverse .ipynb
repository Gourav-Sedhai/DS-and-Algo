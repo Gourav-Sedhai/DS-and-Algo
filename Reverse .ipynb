{
 "cells": [
  {
   "cell_type": "code",
   "execution_count": 9,
   "metadata": {},
   "outputs": [],
   "source": [
    "def rev_word(s):\n",
    "    \n",
    "    words = []\n",
    "    length = len(s)\n",
    "    spaces = [' ']\n",
    "    \n",
    "    i = 0\n",
    "    \n",
    "    while i < length:\n",
    "        \n",
    "        if s[i] not in spaces:\n",
    "            \n",
    "            word_start = i\n",
    "            \n",
    "            while i < length and s[i] not in spaces:\n",
    "                \n",
    "                i += 1\n",
    "                \n",
    "            words.append(s[word_start :i])\n",
    "            \n",
    "        i += 1\n",
    "        \n",
    "    return words\n",
    "    \n",
    "def reverse(words):\n",
    "    i = 0            # first item\n",
    "    j = len(lst)-1   # last item\n",
    "    while i<j:\n",
    "        lst[i],lst[j] = lst[j],lst[i]\n",
    "        i += 1\n",
    "        j -= 1\n",
    "    return lst"
   ]
  },
  {
   "cell_type": "code",
   "execution_count": 10,
   "metadata": {},
   "outputs": [
    {
     "data": {
      "text/plain": [
       "['Hello', 'John', 'how', 'are', 'you']"
      ]
     },
     "execution_count": 10,
     "metadata": {},
     "output_type": "execute_result"
    }
   ],
   "source": [
    "rev_word('  Hello John   how are you     ')"
   ]
  },
  {
   "cell_type": "code",
   "execution_count": null,
   "metadata": {},
   "outputs": [],
   "source": []
  }
 ],
 "metadata": {
  "kernelspec": {
   "display_name": "Python 3",
   "language": "python",
   "name": "python3"
  },
  "language_info": {
   "codemirror_mode": {
    "name": "ipython",
    "version": 3
   },
   "file_extension": ".py",
   "mimetype": "text/x-python",
   "name": "python",
   "nbconvert_exporter": "python",
   "pygments_lexer": "ipython3",
   "version": "3.7.3"
  }
 },
 "nbformat": 4,
 "nbformat_minor": 4
}
